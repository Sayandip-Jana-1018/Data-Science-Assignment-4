{
 "cells": [
  {
   "cell_type": "markdown",
   "id": "bb0773f6-67f9-4f0e-9984-b93f4ca59eea",
   "metadata": {},
   "source": [
    "Q1. Create a vehicle class with an init method having instance variables as name_of_vehicle, max_speed\n",
    "and average_of_vehicle."
   ]
  },
  {
   "cell_type": "code",
   "execution_count": 1,
   "id": "dffb26e8-9775-49af-b3df-590365db3239",
   "metadata": {},
   "outputs": [],
   "source": [
    "class vehicle:\n",
    "    def __init__(self, name_of_vehicle, max_speed, average_of_vehicle):\n",
    "        self.name_of_vehicle = name_of_vehicle\n",
    "        self.max_speed = max_speed\n",
    "        self.average_of_vehicle = average_of_vehicle\n"
   ]
  },
  {
   "cell_type": "markdown",
   "id": "b8250ff1-be54-47f4-848c-cf12fb5d4415",
   "metadata": {},
   "source": [
    "Q2. Create a child class car from the vehicle class created in Que 1, which will inherit the vehicle class. Create a method named seating_capacity which takes capacity as an argument and returns the name of\n",
    "the vehicle and its seating capacity."
   ]
  },
  {
   "cell_type": "code",
   "execution_count": 2,
   "id": "7bfdd112-ca02-41d7-afb2-13ed1cfd9571",
   "metadata": {},
   "outputs": [],
   "source": [
    "class car(vehicle):\n",
    "    def seating_capacity(self, capacity):\n",
    "        print(self.name_of_vehicle, \"has a seating capacity of\", capacity, \"people.\")"
   ]
  },
  {
   "cell_type": "code",
   "execution_count": 3,
   "id": "6fe3653c-d09e-4215-81a1-01f244680a31",
   "metadata": {},
   "outputs": [
    {
     "name": "stdout",
     "output_type": "stream",
     "text": [
      "Toyota has a seating capacity of 5 people.\n"
     ]
    }
   ],
   "source": [
    "car = car(\"Toyota\", 180, 12)\n",
    "car.seating_capacity(5)  # Output: Toyota has a seating capacity of 5 people."
   ]
  },
  {
   "cell_type": "markdown",
   "id": "160c872a-42ba-4398-99c7-20a11928623a",
   "metadata": {},
   "source": [
    "Q3. What is multiple inheritance? Write a python code to demonstrate multiple inheritance."
   ]
  },
  {
   "cell_type": "code",
   "execution_count": 4,
   "id": "7f604d74-b46f-405a-a37c-8c98c0e723dd",
   "metadata": {},
   "outputs": [
    {
     "name": "stdout",
     "output_type": "stream",
     "text": [
      "Method A from class A\n",
      "Method B from class B\n",
      "Method C from class C\n"
     ]
    }
   ],
   "source": [
    "# Multiple inheritance in Python is when a class inherits from more than one base class.\n",
    "class A:\n",
    "    def method_a(self):\n",
    "        print(\"Method A from class A\")\n",
    "\n",
    "class B:\n",
    "    def method_b(self):\n",
    "        print(\"Method B from class B\")\n",
    "\n",
    "class C(A, B):\n",
    "    def method_c(self):\n",
    "        print(\"Method C from class C\")\n",
    "\n",
    "# Creating an instance of class C\n",
    "obj = C()\n",
    "\n",
    "# Accessing methods from both base classes\n",
    "obj.method_a()  # Output: Method A from class A\n",
    "obj.method_b()  # Output: Method B from class B\n",
    "obj.method_c()  # Output: Method C from class C"
   ]
  },
  {
   "cell_type": "markdown",
   "id": "12d54ca6-f9f6-4c95-b5ff-0ef25ea471d5",
   "metadata": {},
   "source": [
    "Q4. What are getter and setter in python? Create a class and create a getter and a setter method in this\n",
    "class."
   ]
  },
  {
   "cell_type": "code",
   "execution_count": 5,
   "id": "98a58cb8-a015-4dfd-b1d1-396ad8696e8d",
   "metadata": {},
   "outputs": [
    {
     "name": "stdout",
     "output_type": "stream",
     "text": [
      "42\n"
     ]
    }
   ],
   "source": [
    "# Getter and setter methods are used to access and modify the attributes of a class respectively, \n",
    "# providing controlled access to class attributes.\n",
    "class MyClass:\n",
    "    def __init__(self):\n",
    "        self._my_attribute = None  # Private attribute\n",
    "    \n",
    "    # Getter method\n",
    "    def get_attribute(self):\n",
    "        return self._my_attribute\n",
    "    \n",
    "    # Setter method\n",
    "    def set_attribute(self, value):\n",
    "        self._my_attribute = value\n",
    "\n",
    "# Example usage:\n",
    "obj = MyClass()\n",
    "obj.set_attribute(42)\n",
    "print(obj.get_attribute())  # Output: 42\n"
   ]
  },
  {
   "cell_type": "markdown",
   "id": "4902bbf9-2c66-4c3b-8e31-3472d2ad073c",
   "metadata": {},
   "source": [
    "Q5. What is method overriding in python? Write a python code to demonstrate method overriding."
   ]
  },
  {
   "cell_type": "code",
   "execution_count": 6,
   "id": "2afbeec5-1d04-4812-a9ea-a6c2e340dd5b",
   "metadata": {},
   "outputs": [
    {
     "name": "stdout",
     "output_type": "stream",
     "text": [
      "Parent speaking\n",
      "Child speaking\n"
     ]
    }
   ],
   "source": [
    "# Method overriding occurs when a subclass provides a specific implementation of a method that \n",
    "# is already defined in its superclass. \n",
    "class Parent:\n",
    "    def speak(self):\n",
    "        print(\"Parent speaking\")\n",
    "\n",
    "class Child(Parent):\n",
    "    def speak(self):\n",
    "        print(\"Child speaking\")\n",
    "\n",
    "# Example usage:\n",
    "parent = Parent()\n",
    "child = Child()\n",
    "\n",
    "parent.speak()  # Output: Parent speaking\n",
    "child.speak()   # Output: Child speaking"
   ]
  }
 ],
 "metadata": {
  "kernelspec": {
   "display_name": "Python 3 (ipykernel)",
   "language": "python",
   "name": "python3"
  },
  "language_info": {
   "codemirror_mode": {
    "name": "ipython",
    "version": 3
   },
   "file_extension": ".py",
   "mimetype": "text/x-python",
   "name": "python",
   "nbconvert_exporter": "python",
   "pygments_lexer": "ipython3",
   "version": "3.10.8"
  }
 },
 "nbformat": 4,
 "nbformat_minor": 5
}
